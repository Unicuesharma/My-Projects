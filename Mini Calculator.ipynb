{
 "cells": [
  {
   "cell_type": "code",
   "execution_count": 1,
   "id": "a2810198",
   "metadata": {},
   "outputs": [
    {
     "name": "stdout",
     "output_type": "stream",
     "text": [
      "~~~~~Mini Calculator~~~~~\n",
      "enter first number here :20\n",
      "enter second number here :3\n",
      "press 1 for Addition \n",
      "press 2 for Subtraction \n",
      "press 3 for Multiplication \n",
      " press 4 for Division\n",
      "enter your choice from 1-4: 3\n",
      "The multiplication of given two numbers is 60.0\n"
     ]
    }
   ],
   "source": [
    "print(\"~~~~~Mini Calculator~~~~~\")\n",
    "\n",
    "num1 = float(input(\"enter first number here :\"))\n",
    "num2 = float(input(\"enter second number here :\"))\n",
    "\n",
    "print(\"press 1 for Addition \\npress 2 for Subtraction \\npress 3 for Multiplication \\n press 4 for Division\")\n",
    "\n",
    "choice = int(input(\"enter your choice from 1-4: \"))\n",
    "\n",
    "if choice == 1:\n",
    "    \n",
    "    print(\"The addition of given two numbers is\",num1 + num2)\n",
    "    \n",
    "elif choice == 2:\n",
    "    \n",
    "    print(\"The subtraction of given two numbers is\",num1 - num2)\n",
    "elif choice == 3:\n",
    "    \n",
    "    print(\"The multiplication of given two numbers is\",num1 * num2)\n",
    "    \n",
    "elif choice == 4:\n",
    "    \n",
    "    print(\"The division of given two numbers is\",num1 / num2)\n",
    "    \n",
    "else:\n",
    "    \n",
    "    print(\"Invalid Input\")\n",
    "    \n",
    "    \n"
   ]
  },
  {
   "cell_type": "code",
   "execution_count": null,
   "id": "a0b8e9ea",
   "metadata": {},
   "outputs": [],
   "source": []
  },
  {
   "cell_type": "code",
   "execution_count": null,
   "id": "94d3cc56",
   "metadata": {},
   "outputs": [],
   "source": []
  },
  {
   "cell_type": "code",
   "execution_count": null,
   "id": "946b5f50",
   "metadata": {},
   "outputs": [],
   "source": []
  },
  {
   "cell_type": "code",
   "execution_count": null,
   "id": "441152d2",
   "metadata": {},
   "outputs": [],
   "source": []
  },
  {
   "cell_type": "code",
   "execution_count": null,
   "id": "60db1641",
   "metadata": {},
   "outputs": [],
   "source": []
  },
  {
   "cell_type": "code",
   "execution_count": null,
   "id": "fa42ca79",
   "metadata": {},
   "outputs": [],
   "source": []
  }
 ],
 "metadata": {
  "kernelspec": {
   "display_name": "Python 3 (ipykernel)",
   "language": "python",
   "name": "python3"
  },
  "language_info": {
   "codemirror_mode": {
    "name": "ipython",
    "version": 3
   },
   "file_extension": ".py",
   "mimetype": "text/x-python",
   "name": "python",
   "nbconvert_exporter": "python",
   "pygments_lexer": "ipython3",
   "version": "3.11.7"
  }
 },
 "nbformat": 4,
 "nbformat_minor": 5
}
